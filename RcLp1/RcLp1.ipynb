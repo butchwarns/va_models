{
 "cells": [
  {
   "cell_type": "code",
   "execution_count": 1,
   "id": "61474f16-b063-4e0a-b131-ea175ccc6dfa",
   "metadata": {},
   "outputs": [],
   "source": [
    "import sympy as sp # Symbolic maths\n",
    "import lcapy as lp # Symbolic circuit analysis\n",
    "import numpy as np # Numerical maths\n",
    "\n",
    "import matplotlib.pyplot as plt # Plots and graphs\n",
    "import matplotlib.ticker as ticker\n",
    "\n",
    "\n",
    "# Style plots\n",
    "\n",
    "plt.style.use('bmh')\n",
    "\n",
    "tex_fonts = {\n",
    "    # Use LaTeX to write all text\n",
    "    \"pgf.texsystem\": \"pdflatex\",\n",
    "    \"text.usetex\": True,\n",
    "    \"font.family\": \"sans-serif\",\n",
    "    # Use 10pt font in plots, to match 10pt font in document\n",
    "    \"axes.labelsize\": 10,\n",
    "    \"font.size\": 10,\n",
    "    # Make the legend/label fonts a little smaller\n",
    "    \"legend.fontsize\": 8,\n",
    "    \"xtick.labelsize\": 8,\n",
    "    \"ytick.labelsize\": 8\n",
    "}\n",
    "\n",
    "plt.rcParams.update(tex_fonts)\n"
   ]
  },
  {
   "cell_type": "code",
   "execution_count": 12,
   "id": "dd996265-ef25-454c-ad9a-6d466b05bea2",
   "metadata": {},
   "outputs": [
    {
     "name": "stdout",
     "output_type": "stream",
     "text": [
      "FIRST-ORDER RC LOW-PASS FILTER\n",
      "\n",
      "\n"
     ]
    },
    {
     "data": {
      "image/png": "[encoded data removed]"
     },
     "metadata": {
      "image/png": {
       "height": 271,
       "width": 525
      }
     },
     "output_type": "display_data"
    }
   ],
   "source": [
    "'''\n",
    "Draw schematic\n",
    "'''\n",
    "\n",
    "print(\"FIRST-ORDER RC LOW-PASS FILTER\")\n",
    "print(\"\\n\")\n",
    "\n",
    "rclp1 = lp.Circuit(\"\"\"\n",
    "    P1 1 0; down, v=v_i\n",
    "    R 1 2; right, R\n",
    "    W  0 0_1; right\n",
    "    C 2 0_1; down\n",
    "    W 0_1 0_2; right\n",
    "    W 2 2_1; right\n",
    "    P2 2_1 0_2; down, v=v_o\n",
    "\"\"\")\n",
    "\n",
    "rclp1.draw(style=\"american\", draw_nodes=\"connections\", label_nodes=\"none\", scale=2)\n",
    "\n",
    "rclp1.draw(\"RcLp1_schem.png\",  style=\"american\", draw_nodes=\"connections\", label_nodes=\"none\", \\\n",
    "             cpt_size=1, scale=2)"
   ]
  },
  {
   "cell_type": "code",
   "execution_count": 3,
   "id": "55606feb-6413-4f4e-8317-2e26c46fd907",
   "metadata": {},
   "outputs": [
    {
     "name": "stdout",
     "output_type": "stream",
     "text": [
      "ANALOG TRANSFER FUNCTION\n",
      "\n",
      "\n",
      "H(s)=\n",
      "    1    \n",
      "─────────\n",
      "C⋅R⋅s + 1\n",
      "\n",
      "\n",
      "\\frac{1}{C R s + 1}\n"
     ]
    }
   ],
   "source": [
    "'''\n",
    "Find analog transfer function\n",
    "'''\n",
    "\n",
    "print(\"ANALOG TRANSFER FUNCTION\")\n",
    "print(\"\\n\")\n",
    "print(\"H(s)=\")\n",
    "Hs = rclp1.transfer('P1', 'P2').simplify()\n",
    "\n",
    "sp.pretty_print(Hs)\n",
    "print(\"\\n\")\n",
    "sp.print_latex(Hs)"
   ]
  },
  {
   "cell_type": "code",
   "execution_count": 4,
   "id": "fff352d6-b8ed-4582-a9f5-f1eedcd4556d",
   "metadata": {},
   "outputs": [
    {
     "name": "stdout",
     "output_type": "stream",
     "text": [
      "H(s)=\n",
      "  1   \n",
      "──────\n",
      "    s \n",
      "1 + ──\n",
      "    ω₀\n",
      "\n",
      "\n",
      "\\frac{1}{1 + \\frac{s}{\\omega_{0}}}\n"
     ]
    }
   ],
   "source": [
    "'''\n",
    "Express H(s) in terms of (angular) cutoff frequency\n",
    "'''\n",
    "\n",
    "# Get symbols from lcapy context for further calculations using sympy\n",
    "C = lp.state.context.symbols.C\n",
    "R = lp.state.context.symbols.R\n",
    "\n",
    "# Define new symbol angular cutoff frequency\n",
    "w0 = sp.symbols(\"omega0\")\n",
    "\n",
    "# Transform lcapy transfer function into regular sympy expression\n",
    "Hs = Hs.sympy.simplify()\n",
    "\n",
    "# Substitute\n",
    "Hs = Hs.subs(R*C, sp.S.One / w0)\n",
    "\n",
    "print(\"H(s)=\")\n",
    "sp.pretty_print(Hs)\n",
    "print(\"\\n\")\n",
    "sp.print_latex(Hs)"
   ]
  },
  {
   "cell_type": "code",
   "execution_count": 5,
   "id": "945a9a91-4842-4c8a-9385-73a1a0e59645",
   "metadata": {},
   "outputs": [
    {
     "name": "stdout",
     "output_type": "stream",
     "text": [
      "SUBSTITUTE FOR s VARIALBE\n",
      "\n",
      "    ω₀⋅(z - 1)   \n",
      "─────────────────\n",
      "           ⎛T⋅ω₀⎞\n",
      "(z + 1)⋅tan⎜────⎟\n",
      "           ⎝ 2  ⎠\n",
      "\n",
      "\n",
      "\\frac{\\omega_{0} \\left(z - 1\\right)}{\\left(z + 1\\right) \\tan{\\left(\\frac{T \\omega_{0}}{2} \\right)}}\n"
     ]
    }
   ],
   "source": [
    "'''\n",
    "Bilinear transformation with prewarping\n",
    "'''\n",
    "\n",
    "# Get some more symbols from lcapy context\n",
    "s = lp.state.context.symbols.s\n",
    "f = lp.state.context.symbols.f\n",
    "\n",
    "# Define some more symbols\n",
    "z = sp.symbols(\"z\")\n",
    "f0, T = sp.symbols(\"f0, T\", real=True)\n",
    "\n",
    "# Define substitution\n",
    "blt = (w0 / sp.tan(w0 * T / 2)) * (z - 1) / (z + 1)\n",
    "\n",
    "print(\"SUBSTITUTE FOR s VARIALBE\\n\")\n",
    "sp.pretty_print(blt)\n",
    "print(\"\\n\")\n",
    "sp.print_latex(blt)"
   ]
  },
  {
   "cell_type": "code",
   "execution_count": 6,
   "id": "c1718f5f-c557-41dc-8f35-6f7362c912ef",
   "metadata": {},
   "outputs": [
    {
     "name": "stdout",
     "output_type": "stream",
     "text": [
      "DIGITAL TRANSFER FUNCTION\n",
      "\n",
      "\n",
      "H(z)=\n",
      "               ⎛T⋅ω₀⎞    \n",
      "    (z + 1)⋅tan⎜────⎟    \n",
      "               ⎝ 2  ⎠    \n",
      "─────────────────────────\n",
      "               ⎛T⋅ω₀⎞    \n",
      "z + (z + 1)⋅tan⎜────⎟ - 1\n",
      "               ⎝ 2  ⎠    \n",
      "\n",
      "\n",
      "\\frac{\\left(z + 1\\right) \\tan{\\left(\\frac{T \\omega_{0}}{2} \\right)}}{z + \\left(z + 1\\right) \\tan{\\left(\\frac{T \\omega_{0}}{2} \\right)} - 1}\n"
     ]
    }
   ],
   "source": [
    "'''\n",
    "Discretisation step\n",
    "'''\n",
    "\n",
    "# Do the substitution to find digital model\n",
    "Hz = Hs.subs(s, blt).simplify()\n",
    "\n",
    "print(\"DIGITAL TRANSFER FUNCTION\")\n",
    "print(\"\\n\")\n",
    "print(\"H(z)=\")\n",
    "\n",
    "sp.pretty_print(Hz)\n",
    "print(\"\\n\")\n",
    "sp.print_latex(Hz)"
   ]
  },
  {
   "cell_type": "code",
   "execution_count": 7,
   "id": "14771980-18da-4f38-81ca-c3ac93c09d64",
   "metadata": {},
   "outputs": [
    {
     "name": "stdout",
     "output_type": "stream",
     "text": [
      "     T⋅ω₀⋅(z + 1)     \n",
      "──────────────────────\n",
      "T⋅ω₀⋅(z + 1) + 2⋅z - 2\n",
      "\n",
      "\n",
      "\\frac{T \\omega_{0} \\left(z + 1\\right)}{T \\omega_{0} \\left(z + 1\\right) + 2 z - 2}\n"
     ]
    }
   ],
   "source": [
    "'''\n",
    "Simplify for more efficient implementation\n",
    "'''\n",
    "\n",
    "Hz = Hz.subs(sp.tan(w0*T/2), w0*T/2).simplify()\n",
    "\n",
    "sp.pretty_print(Hz)\n",
    "print(\"\\n\")\n",
    "sp.print_latex(Hz)"
   ]
  },
  {
   "cell_type": "code",
   "execution_count": 13,
   "id": "7a562c4e-4a6d-47dc-8908-d072779d2150",
   "metadata": {},
   "outputs": [
    {
     "name": "stdout",
     "output_type": "stream",
     "text": [
      "R =  4700 Ohm, C = 100.0 nF\n",
      "CUTOFF FREQUENCY:  339 Hz\n",
      "\n",
      "\n",
      "H(s)=\n",
      "      1      \n",
      "─────────────\n",
      "0.00047⋅s + 1\n",
      "\n",
      "\n",
      "\\frac{1}{0.00047 s + 1}\n",
      "\n",
      "\n",
      "H(z)=\n",
      "      0.0443262411347518⋅(z + 1)     \n",
      "─────────────────────────────────────\n",
      "2.04432624113475⋅z - 1.95567375886525\n",
      "\n",
      "\n",
      "\\frac{0.0443262411347518 \\left(z + 1\\right)}{2.04432624113475 z - 1.95567375886525}\n"
     ]
    }
   ],
   "source": [
    "'''\n",
    "Substitute component values before evaluating\n",
    "'''\n",
    "\n",
    "# ANALOG\n",
    "\n",
    "# Define actual component values. (These can be calculated for any given cutoff frequency)\n",
    "Rval = 4700 # Ohm\n",
    "Cval = 100e-9 # Farad\n",
    "\n",
    "print(f\"R = {Rval: 1.0f} Ohm, C = {Cval * 1e9} nF\")\n",
    "print(f\"CUTOFF FREQUENCY: {1 / (2 * np.pi * Rval * Cval): 4.0f} Hz\")\n",
    "print(\"\\n\")\n",
    "\n",
    "HsEval = Hs.subs(w0, 1 / (Rval * Cval)) # (This does not take into account any physical units!)\n",
    "\n",
    "print(\"H(s)=\")\n",
    "sp.pretty_print(HsEval)\n",
    "print(\"\\n\")\n",
    "sp.print_latex(HsEval)\n",
    "\n",
    "# DIGITAL\n",
    "\n",
    "# Input same component values\n",
    "HzEval = Hz.subs(w0, 1/(Rval * Cval))\n",
    "\n",
    "# Sampling interval\n",
    "fsVal = 48000 # Hertz\n",
    "TVal = 1 / fsVal # Second\n",
    "\n",
    "# Plug in sampling interval\n",
    "HzEval = HzEval.subs(T, TVal)\n",
    "\n",
    "print(\"\\n\")\n",
    "print(\"H(z)=\")\n",
    "sp.pretty_print(HzEval)\n",
    "print(\"\\n\")\n",
    "sp.print_latex(HzEval)"
   ]
  },
  {
   "cell_type": "code",
   "execution_count": 14,
   "id": "1b6129c5-4afc-41e6-877d-d48d6edea73d",
   "metadata": {},
   "outputs": [],
   "source": [
    "'''\n",
    "Evaluate frequency response to find magnitude and phase\n",
    "'''\n",
    "\n",
    "# ANALOG\n",
    "\n",
    "# Create frequency vector\n",
    "fVals = 20 * np.logspace(0, 3, 300) # 20Hz - 20kHz\n",
    "\n",
    "# Evaluate the analog transfer function at s=jw to find frequency response\n",
    "sSub = 1j * 2 * np.pi * f \n",
    "HsEval = HsEval.subs(s, sSub)\n",
    "\n",
    "# Make Hs a callable function, so numpy arrays work as input\n",
    "Hs_f = sp.lambdify(f, HsEval, \"numpy\") # H_s(f)\n",
    "\n",
    "# Find magnitude and phase\n",
    "sFreqResp = Hs_f(fVals)\n",
    "sMag = 20 * np.log10(np.abs(sFreqResp))\n",
    "sPhase = np.angle(sFreqResp)\n",
    "\n",
    "# DIGITAL\n",
    "\n",
    "# Make Hs a callable function, so numpy arrays work as input\n",
    "Hz_f = sp.lambdify(z, HzEval, \"numpy\")\n",
    "\n",
    "# Evaluate at z = exp(jwT) to find frequency response\n",
    "zSub = np.exp(1j * 2 * np.pi * fVals * TVal)\n",
    "zFreqResp = Hz_f(zSub)\n",
    "\n",
    "# Find magnitude and phase\n",
    "zMag = 20 * np.log10(np.abs(zFreqResp))\n",
    "zPhase = np.angle(zFreqResp)"
   ]
  },
  {
   "cell_type": "code",
   "execution_count": 17,
   "id": "853ec6a5-37e2-4792-b814-11c19861d162",
   "metadata": {},
   "outputs": [
    {
     "name": "stdout",
     "output_type": "stream",
     "text": [
      "COMPARING BOTH MODELS\n",
      "(fs =  48000 Hz)\n",
      "\n",
      "\n"
     ]
    },
    {
     "data": {
      "image/png": "[encoded data removed]",
      "text/plain": [
       "<Figure size 324x216 with 2 Axes>"
      ]
     },
     "metadata": {
      "needs_background": "light"
     },
     "output_type": "display_data"
    }
   ],
   "source": [
    "# Create Bode plot\n",
    "fig, ax = plt.subplots(2, 1, sharex=False, sharey=False, figsize=(4.5, 3))\n",
    "print(\"COMPARING BOTH MODELS\")\n",
    "print(f\"(fs = {fsVal: 1.0f} Hz)\")\n",
    "print(\"\\n\")\n",
    "\n",
    "ax[0].yaxis.set_major_formatter(ticker.FormatStrFormatter(r'%.1f'))\n",
    "ax[1].yaxis.set_major_formatter(ticker.FormatStrFormatter(r'%.1f $\\pi$'))\n",
    "\n",
    "ax[0].semilogx(fVals, sMag, label=\"Analog\")\n",
    "ax[0].semilogx(fVals, zMag, label=r\"Digital (fs=48kHz)\")\n",
    "ax[0].set_ylabel(\"Magnitude / dB\")\n",
    "ax[0].legend()\n",
    "ax[0].vlines(fsVal / 2, -50, 0, color=\"lightgrey\", linestyle=\"dashed\")\n",
    "\n",
    "ax[1].semilogx(fVals, zPhase)\n",
    "ax[1].semilogx(fVals, sPhase)\n",
    "ax[1].set_xlabel(\"Frequency / Hz\")\n",
    "ax[1].set_ylabel(\"Phase / rad\")\n",
    "\n",
    "ax[1].vlines(fsVal / 2, -1.5, 0, color=\"lightgrey\", linestyle=\"dashed\")\n",
    "\n",
    "plt.tight_layout()\n",
    "plt.savefig(\"RcLp1_bode.png\", dpi=300)"
   ]
  },
  {
   "cell_type": "code",
   "execution_count": 11,
   "id": "d2481883-e233-48d5-8862-ffba087d4bae",
   "metadata": {},
   "outputs": [
    {
     "name": "stdout",
     "output_type": "stream",
     "text": [
      "COEFFICIENTS\n",
      "\n",
      "\n",
      "NUM:  [T*omega0/(T*omega0 + 2), T*omega0/(T*omega0 + 2)]\n",
      "DEN:  [1, (T*omega0 - 2)/(T*omega0 + 2)]\n",
      "\n",
      "\n",
      "a0:  T*omega0/(T*omega0 + 2)\n",
      "a1:  T*omega0/(T*omega0 + 2)\n",
      "a2:  0.0\n",
      "b0:  1\n",
      "b1:  (T*omega0 - 2)/(T*omega0 + 2)\n",
      "b2:  0.0\n"
     ]
    }
   ],
   "source": [
    "'''\n",
    "Find coefficients\n",
    "'''\n",
    "# Get numerator / denominator coefficients\n",
    "\n",
    "num, den = Hz.as_numer_denom()\n",
    "\n",
    "numCoeffs = num.as_expr().as_poly(z).simplify().coeffs()\n",
    "denCoeffs = den.as_expr().as_poly(z).simplify().coeffs()\n",
    "\n",
    "# Normalize coefficient b0 to 1 (divide all coeffs by b0)\n",
    "\n",
    "b0 = denCoeffs[0]\n",
    "numCoeffsNorm = []\n",
    "denCoeffsNorm = []\n",
    "\n",
    "for coeff in numCoeffs:\n",
    "    coeff /= b0\n",
    "    numCoeffsNorm.append(coeff)\n",
    "for coeff in denCoeffs:\n",
    "    coeff /= b0\n",
    "    denCoeffsNorm.append(coeff)\n",
    "\n",
    "print(\"COEFFICIENTS\")\n",
    "print(\"\\n\")\n",
    "print(\"NUM: \", numCoeffsNorm)\n",
    "print(\"DEN: \", denCoeffsNorm)\n",
    "print(\"\\n\")\n",
    "print(\"a0: \", numCoeffsNorm[0])\n",
    "print(\"a1: \", numCoeffsNorm[1])\n",
    "print(\"a2: \", 0.0)\n",
    "print(\"b0: \", denCoeffsNorm[0])\n",
    "print(\"b1: \", denCoeffsNorm[1])\n",
    "print(\"b2: \", 0.0)"
   ]
  },
  {
   "cell_type": "code",
   "execution_count": null,
   "id": "7d86fd34-c04a-4b8b-9ebd-652b69d1521b",
   "metadata": {},
   "outputs": [],
   "source": []
  },
  {
   "cell_type": "code",
   "execution_count": null,
   "id": "976df3dd-79b9-4506-b498-1a23433f1fda",
   "metadata": {},
   "outputs": [],
   "source": []
  }
 ],
 "metadata": {
  "kernelspec": {
   "display_name": "Python 3 (ipykernel)",
   "language": "python",
   "name": "python3"
  },
  "language_info": {
   "codemirror_mode": {
    "name": "ipython",
    "version": 3
   },
   "file_extension": ".py",
   "mimetype": "text/x-python",
   "name": "python",
   "nbconvert_exporter": "python",
   "pygments_lexer": "ipython3",
   "version": "3.8.8"
  }
 },
 "nbformat": 4,
 "nbformat_minor": 5
}
